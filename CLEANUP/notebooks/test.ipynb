{
 "cells": [
  {
   "cell_type": "markdown",
   "metadata": {},
   "source": [
    "```python\n",
    "import dista1\n",
    "```"
   ]
  },
  {
   "cell_type": "code",
   "execution_count": 1,
   "metadata": {},
   "outputs": [],
   "source": [
    "from elasticsearch import Elasticsearch\n",
    "from elasticsearch import AuthenticationException\n",
    "import json\n",
    "import sys\n",
    "import os\n",
    "from bs4 import BeautifulSoup\n",
    "from lxml import etree\n",
    "import re\n",
    "\n",
    "with open(\"credentials.json\", \"r\") as f:\n",
    "    credentials = json.load(f)\n",
    "\n",
    "with open(\"mapping.json\", \"r\") as f:\n",
    "    mapping = json.load(f)"
   ]
  },
  {
   "cell_type": "markdown",
   "metadata": {},
   "source": [
    "# **Testing the XML files**\n",
    "---"
   ]
  },
  {
   "cell_type": "code",
   "execution_count": 13,
   "metadata": {},
   "outputs": [
    {
     "name": "stdout",
     "output_type": "stream",
     "text": [
      "collection/cf74.xml\n",
      "collection/cf75.xml\n",
      "collection/cf76.xml\n",
      "collection/cf77.xml\n",
      "collection/cf78.xml\n",
      "collection/cf79.xml\n"
     ]
    }
   ],
   "source": [
    "collection_path = \"collection\"\n",
    "files = []\n",
    "\n",
    "for file in sorted(os.listdir(collection_path)):\n",
    "    if re.match(r\"cf\\d{2}\\.xml\", file):\n",
    "        print(os.path.join(collection_path, file))\n",
    "        files.append(os.path.join(collection_path, file))"
   ]
  },
  {
   "cell_type": "code",
   "execution_count": 6,
   "metadata": {},
   "outputs": [
    {
     "data": {
      "application/vnd.jupyter.widget-view+json": {
       "model_id": "9f94511ca35646e9ba97c5af0416cf4a",
       "version_major": 2,
       "version_minor": 0
      },
      "text/plain": [
       "RadioButtons(description='Select:', options=('Single document', 'All documents'), value='Single document')"
      ]
     },
     "metadata": {},
     "output_type": "display_data"
    },
    {
     "ename": "ValueError",
     "evalue": "invalid literal for int() with base 10: ''",
     "output_type": "error",
     "traceback": [
      "\u001b[0;31m---------------------------------------------------------------------------\u001b[0m",
      "\u001b[0;31mValueError\u001b[0m                                Traceback (most recent call last)",
      "Cell \u001b[0;32mIn[6], line 16\u001b[0m\n\u001b[1;32m     14\u001b[0m res \u001b[38;5;241m=\u001b[39m re\u001b[38;5;241m.\u001b[39msub(\u001b[38;5;124mr\u001b[39m\u001b[38;5;124m'\u001b[39m\u001b[38;5;124m<\u001b[39m\u001b[38;5;124m\\\u001b[39m\u001b[38;5;124ms*/?\u001b[39m\u001b[38;5;124m\\\u001b[39m\u001b[38;5;124ms*?>\u001b[39m\u001b[38;5;124m'\u001b[39m, \u001b[38;5;124m'\u001b[39m\u001b[38;5;124m'\u001b[39m, contents)\n\u001b[1;32m     15\u001b[0m res \u001b[38;5;241m=\u001b[39m re\u001b[38;5;241m.\u001b[39msplit(\u001b[38;5;124mr\u001b[39m\u001b[38;5;124m'\u001b[39m\u001b[38;5;124m(?=<RECORD>)\u001b[39m\u001b[38;5;124m'\u001b[39m, res)\n\u001b[0;32m---> 16\u001b[0m sel \u001b[38;5;241m=\u001b[39m \u001b[38;5;28;43mint\u001b[39;49m\u001b[43m(\u001b[49m\u001b[38;5;28;43minput\u001b[39;49m\u001b[43m(\u001b[49m\u001b[38;5;124;43m\"\u001b[39;49m\u001b[38;5;124;43mChoose record:\u001b[39;49m\u001b[38;5;124;43m\"\u001b[39;49m\u001b[43m)\u001b[49m\u001b[43m)\u001b[49m\n\u001b[1;32m     17\u001b[0m \u001b[38;5;28mprint\u001b[39m(res[sel])\n",
      "\u001b[0;31mValueError\u001b[0m: invalid literal for int() with base 10: ''"
     ]
    }
   ],
   "source": [
    "def parse_xml(file):\n",
    "    f = open(file)\n",
    "    contents = f.read()\n",
    "\n",
    "    #Remove empty tags\n",
    "    res = re.sub(r'<\\s*/?\\s*?>', '', contents)\n",
    "\n",
    "    #Split file into documents based on the <RECORD> element\n",
    "    res = re.split(r'(?=<RECORD>)', res)\n",
    "\n",
    "    for doc in res:\n",
    "        doc += \"</RECORD>\"\n",
    "    \n",
    "    f.close()\n",
    "\n",
    "    return\n",
    "\n",
    "docs = []\n",
    "\n",
    "for file in files:\n",
    "    docs += parse_xml()"
   ]
  },
  {
   "cell_type": "code",
   "execution_count": null,
   "metadata": {},
   "outputs": [],
   "source": [
    "doc = etree.fromstring(res[sel] + \"</RECORD>\")\n",
    "print(etree.tostring(doc, pretty_print=True, encoding=\"unicode\"))"
   ]
  },
  {
   "cell_type": "code",
   "execution_count": null,
   "metadata": {},
   "outputs": [],
   "source": [
    "json_doc = {\n",
    "    \"paper_number\": doc.xpath(\"//PAPERNUM/text()\")[0],\n",
    "    \"record_number\": doc.xpath(\"//RECORDNUM/text()\")[0],\n",
    "    \"medline_num\": doc.xpath(\"//MEDLINENUM/text()\")[0],\n",
    "    \"authors\": doc.xpath(\"//AUTHORS/AUTHOR/text()\"),\n",
    "    \"title\": doc.xpath(\"//TITLE/text()\")[0],\n",
    "    \"source\": doc.xpath(\"//SOURCE/text()\")[0],\n",
    "    \"major_subjects\": doc.xpath(\"//MAJORSUBJ/TOPIC/text()\"),\n",
    "    \"minor_subjects\": doc.xpath(\"//MINORSUBJ/TOPIC/text()\"),\n",
    "    \"abstract\": (doc.xpath(\"//ABSTRACT/text()\") + doc.xpath(\"//EXTRACT/text()\"))[0],\n",
    "    \"citations\": [{\n",
    "            \"author\": cite.attrib[\"author\"],\n",
    "            \"publication\": cite.attrib[\"publication\"],\n",
    "            \"d1\": cite.attrib[\"d1\"],\n",
    "            \"d2\": cite.attrib[\"d2\"],\n",
    "            \"d3\": cite.attrib[\"d3\"]\n",
    "        }\n",
    "    \n",
    "        for cite in doc.xpath(\"//CITATIONS/CITE\")\n",
    "            \n",
    "    ],\n",
    "    \"references\": [{\n",
    "            \"author\": cite.attrib[\"author\"],\n",
    "            \"publication\": cite.attrib[\"publication\"],\n",
    "            \"d1\": cite.attrib[\"d1\"],\n",
    "            \"d2\": cite.attrib[\"d2\"],\n",
    "            \"d3\": cite.attrib[\"d3\"]\n",
    "        }\n",
    "\n",
    "        for cite in doc.xpath(\"//REFERENCES/CITE\")\n",
    "    ]\n",
    "}\n",
    "\n",
    "print(json.dumps(json_doc, indent=\"\\t\"))"
   ]
  }
 ],
 "metadata": {
  "kernelspec": {
   "display_name": "Python 3",
   "language": "python",
   "name": "python3"
  },
  "language_info": {
   "codemirror_mode": {
    "name": "ipython",
    "version": 3
   },
   "file_extension": ".py",
   "mimetype": "text/x-python",
   "name": "python",
   "nbconvert_exporter": "python",
   "pygments_lexer": "ipython3",
   "version": "3.10.12"
  }
 },
 "nbformat": 4,
 "nbformat_minor": 2
}
