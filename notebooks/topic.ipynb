{
 "cells": [
  {
   "cell_type": "code",
   "execution_count": 27,
   "metadata": {},
   "outputs": [],
   "source": [
    "\n",
    "import numpy as np\n",
    "from sentence_transformers import SentenceTransformer\n",
    "import ipywidgets as widgets\n"
   ]
  },
  {
   "cell_type": "code",
   "execution_count": 113,
   "metadata": {},
   "outputs": [
    {
     "data": {
      "application/vnd.jupyter.widget-view+json": {
       "model_id": "2cbd58fb71994ffea514886df0b3aea4",
       "version_major": 2,
       "version_minor": 0
      },
      "text/plain": [
       "RadioButtons(description='Select:', options=('Test', 'Query', 'Input'), value='Test')"
      ]
     },
     "metadata": {},
     "output_type": "display_data"
    }
   ],
   "source": [
    "mode = \"Test\"\n",
    "sentences = []\n",
    "\n",
    "def on_value_change(change):\n",
    "    global mode\n",
    "    mode = change['new']\n",
    "\n",
    "radio = widgets.RadioButtons(\n",
    "    options=['Test', 'Query', 'Input'],\n",
    "    value='Test',\n",
    "    description=\"Select:\"\n",
    ")\n",
    "radio.observe(on_value_change, names=\"value\")\n",
    "display(radio)"
   ]
  },
  {
   "cell_type": "code",
   "execution_count": 120,
   "metadata": {},
   "outputs": [],
   "source": [
    "if mode == \"Test\":\n",
    "    sentences = [\n",
    "        \"Given an input text, it outputs a vector which captures the semantic information\",\n",
    "        \"By default, input text longer than 256 word pieces is truncated.\"\n",
    "    ]\n",
    "elif mode == \"Query\":\n",
    "    from query import parse_queries, query, elasticsearch_client\n",
    "\n",
    "    q = input(\"Query number: \")\n",
    "    if q == \"\":\n",
    "        q = 0\n",
    "    else: q = int(q)\n",
    "\n",
    "    query_list = parse_queries()[q:q+1]\n",
    "    docs, _ = query(elasticsearch_client(), query_list)\n",
    "    sentences = docs[0][0].split(\". \")[:-1]\n",
    "elif mode == \"Input\":\n",
    "    doc = input(\"Give text: \")\n",
    "    sentences = doc.split(\". \")[:-1]\n",
    "\n",
    "model = SentenceTransformer('sentence-transformers/all-MiniLM-L6-v2')\n",
    "embeddings = model.encode(sentences)"
   ]
  },
  {
   "cell_type": "code",
   "execution_count": 121,
   "metadata": {},
   "outputs": [
    {
     "name": "stdout",
     "output_type": "stream",
     "text": [
      "Meconium is the first gastrointestinal excretion normally expelled by the neonate\n",
      "\n",
      "This review discusses the composition of meconium: proteins, lipids, steroid and sterols, bile pigments and bile acids, glycoproteins, mineral composition, and enzymes\n",
      "\n",
      "The major complications relating to meconium are serious: they include aspiration pneumonia, which may prove fatal and is not related to cystic fibrosis, the \"meconium plug syndrome\" and meconium ileus\n",
      "\n"
     ]
    }
   ],
   "source": [
    "for s in sentences:\n",
    "    print(s.strip())\n",
    "    print()"
   ]
  },
  {
   "cell_type": "code",
   "execution_count": 122,
   "metadata": {},
   "outputs": [
    {
     "name": "stdout",
     "output_type": "stream",
     "text": [
      "0.46931362\n",
      "0.42865112\n"
     ]
    }
   ],
   "source": [
    "def cosine_sim(vec1, vec2) -> float:\n",
    "    return np.dot(vec1, vec2)/(np.linalg.norm(vec1)*np.linalg.norm(vec2))\n",
    "\n",
    "for vec1, vec2 in zip(embeddings[:-1], embeddings[1:]):\n",
    "    print(cosine_sim(vec1, vec2))"
   ]
  },
  {
   "cell_type": "code",
   "execution_count": null,
   "metadata": {},
   "outputs": [],
   "source": []
  }
 ],
 "metadata": {
  "kernelspec": {
   "display_name": "venv",
   "language": "python",
   "name": "python3"
  },
  "language_info": {
   "codemirror_mode": {
    "name": "ipython",
    "version": 3
   },
   "file_extension": ".py",
   "mimetype": "text/x-python",
   "name": "python",
   "nbconvert_exporter": "python",
   "pygments_lexer": "ipython3",
   "version": "3.10.12"
  }
 },
 "nbformat": 4,
 "nbformat_minor": 2
}
