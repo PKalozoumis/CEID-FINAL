{
 "cells": [
  {
   "cell_type": "code",
   "execution_count": 1,
   "metadata": {},
   "outputs": [
    {
     "data": {
      "application/vnd.jupyter.widget-view+json": {
       "model_id": "5d2942ab23a0486babe34359d2d74edf",
       "version_major": 2,
       "version_minor": 0
      },
      "text/plain": [
       "README.md:   0%|          | 0.00/247 [00:00<?, ?B/s]"
      ]
     },
     "metadata": {},
     "output_type": "display_data"
    },
    {
     "data": {
      "application/vnd.jupyter.widget-view+json": {
       "model_id": "27dc17f2c2b24a2e89457e69f0f0a3a4",
       "version_major": 2,
       "version_minor": 0
      },
      "text/plain": [
       "Resolving data files:   0%|          | 0/23 [00:00<?, ?it/s]"
      ]
     },
     "metadata": {},
     "output_type": "display_data"
    },
    {
     "data": {
      "application/vnd.jupyter.widget-view+json": {
       "model_id": "a3044668eefc4b798b2cecec423fc234",
       "version_major": 2,
       "version_minor": 0
      },
      "text/plain": [
       "Resolving data files:   0%|          | 0/17 [00:00<?, ?it/s]"
      ]
     },
     "metadata": {},
     "output_type": "display_data"
    },
    {
     "data": {
      "application/vnd.jupyter.widget-view+json": {
       "model_id": "9ee00d145b954788b92a02927087dc65",
       "version_major": 2,
       "version_minor": 0
      },
      "text/plain": [
       "Downloading data:   0%|          | 0/23 [00:00<?, ?files/s]"
      ]
     },
     "metadata": {},
     "output_type": "display_data"
    },
    {
     "data": {
      "application/vnd.jupyter.widget-view+json": {
       "model_id": "e41f1c786fd64ecd9870466121ff5c80",
       "version_major": 2,
       "version_minor": 0
      },
      "text/plain": [
       "overview.png:   0%|          | 0.00/46.0k [00:00<?, ?B/s]"
      ]
     },
     "metadata": {},
     "output_type": "display_data"
    },
    {
     "data": {
      "application/vnd.jupyter.widget-view+json": {
       "model_id": "63fec20feefd4ebabbb7b6332cab2b46",
       "version_major": 2,
       "version_minor": 0
      },
      "text/plain": [
       "simple_profile_partitioned.png:   0%|          | 0.00/140k [00:00<?, ?B/s]"
      ]
     },
     "metadata": {},
     "output_type": "display_data"
    },
    {
     "data": {
      "application/vnd.jupyter.widget-view+json": {
       "model_id": "b60bbc3a18fc4f9a8bd38481eef80ad9",
       "version_major": 2,
       "version_minor": 0
      },
      "text/plain": [
       "image_fp32.png:   0%|          | 0.00/384k [00:00<?, ?B/s]"
      ]
     },
     "metadata": {},
     "output_type": "display_data"
    },
    {
     "data": {
      "application/vnd.jupyter.widget-view+json": {
       "model_id": "d91bdcac424d473d89b8448da992d6e7",
       "version_major": 2,
       "version_minor": 0
      },
      "text/plain": [
       "new_dataset.png:   0%|          | 0.00/333k [00:00<?, ?B/s]"
      ]
     },
     "metadata": {},
     "output_type": "display_data"
    },
    {
     "data": {
      "application/vnd.jupyter.widget-view+json": {
       "model_id": "c0b2d78e81234e0d8f5bd126f9547f54",
       "version_major": 2,
       "version_minor": 0
      },
      "text/plain": [
       "colorized_training_profile.png:   0%|          | 0.00/286k [00:00<?, ?B/s]"
      ]
     },
     "metadata": {},
     "output_type": "display_data"
    },
    {
     "data": {
      "application/vnd.jupyter.widget-view+json": {
       "model_id": "2302e25bd8f4486f8bf46b560d2da38e",
       "version_major": 2,
       "version_minor": 0
      },
      "text/plain": [
       "image_tome_quantized.png:   0%|          | 0.00/261k [00:00<?, ?B/s]"
      ]
     },
     "metadata": {},
     "output_type": "display_data"
    },
    {
     "data": {
      "application/vnd.jupyter.widget-view+json": {
       "model_id": "fb9f37f0cb6346578dd33b5035cff0bb",
       "version_major": 2,
       "version_minor": 0
      },
      "text/plain": [
       "segmentation_examples.png:   0%|          | 0.00/466k [00:00<?, ?B/s]"
      ]
     },
     "metadata": {},
     "output_type": "display_data"
    },
    {
     "data": {
      "application/vnd.jupyter.widget-view+json": {
       "model_id": "e069e20d5ed84cf79e2531b5e36aece0",
       "version_major": 2,
       "version_minor": 0
      },
      "text/plain": [
       "image_quantized.png:   0%|          | 0.00/216k [00:00<?, ?B/s]"
      ]
     },
     "metadata": {},
     "output_type": "display_data"
    },
    {
     "data": {
      "application/vnd.jupyter.widget-view+json": {
       "model_id": "efaa2d1bb39b4f7c92dc1bf64961177f",
       "version_major": 2,
       "version_minor": 0
      },
      "text/plain": [
       "raw_training_profile.png:   0%|          | 0.00/115k [00:00<?, ?B/s]"
      ]
     },
     "metadata": {},
     "output_type": "display_data"
    },
    {
     "data": {
      "application/vnd.jupyter.widget-view+json": {
       "model_id": "fad9672975b9482ba49405d763571ab7",
       "version_major": 2,
       "version_minor": 0
      },
      "text/plain": [
       "(…)vation_memory_with_global_regression.png:   0%|          | 0.00/12.4k [00:00<?, ?B/s]"
      ]
     },
     "metadata": {},
     "output_type": "display_data"
    },
    {
     "data": {
      "application/vnd.jupyter.widget-view+json": {
       "model_id": "e77e71a4a0524fa58a7b4e459b52db64",
       "version_major": 2,
       "version_minor": 0
      },
      "text/plain": [
       "colorized_training_profile_2.png:   0%|          | 0.00/270k [00:00<?, ?B/s]"
      ]
     },
     "metadata": {},
     "output_type": "display_data"
    },
    {
     "data": {
      "application/vnd.jupyter.widget-view+json": {
       "model_id": "cba2862daf1d41b8aa81c56a80b062ed",
       "version_major": 2,
       "version_minor": 0
      },
      "text/plain": [
       "face_synethtics_example.jpeg:   0%|          | 0.00/263k [00:00<?, ?B/s]"
      ]
     },
     "metadata": {},
     "output_type": "display_data"
    },
    {
     "data": {
      "application/vnd.jupyter.widget-view+json": {
       "model_id": "368448155aed4899983b1b86110ba233",
       "version_major": 2,
       "version_minor": 0
      },
      "text/plain": [
       "simple_profile.png:   0%|          | 0.00/152k [00:00<?, ?B/s]"
      ]
     },
     "metadata": {},
     "output_type": "display_data"
    },
    {
     "data": {
      "application/vnd.jupyter.widget-view+json": {
       "model_id": "598f76ddf5434996ae4b2005263df0a1",
       "version_major": 2,
       "version_minor": 0
      },
      "text/plain": [
       "segmentation_sequence.png:   0%|          | 0.00/409k [00:00<?, ?B/s]"
      ]
     },
     "metadata": {},
     "output_type": "display_data"
    },
    {
     "data": {
      "application/vnd.jupyter.widget-view+json": {
       "model_id": "c6f09349a4d04542824f78c062ff976a",
       "version_major": 2,
       "version_minor": 0
      },
      "text/plain": [
       "segmentation_no_known.png:   0%|          | 0.00/414k [00:00<?, ?B/s]"
      ]
     },
     "metadata": {},
     "output_type": "display_data"
    },
    {
     "data": {
      "application/vnd.jupyter.widget-view+json": {
       "model_id": "46d4b9773cdd4d11a8f00777b2c99154",
       "version_major": 2,
       "version_minor": 0
      },
      "text/plain": [
       "pose_image_1-min.png:   0%|          | 0.00/369k [00:00<?, ?B/s]"
      ]
     },
     "metadata": {},
     "output_type": "display_data"
    },
    {
     "data": {
      "application/vnd.jupyter.widget-view+json": {
       "model_id": "adf7c046aac34ffebdc9def13f07f3c0",
       "version_major": 2,
       "version_minor": 0
      },
      "text/plain": [
       "conditioning_image_1.png:   0%|          | 0.00/26.7k [00:00<?, ?B/s]"
      ]
     },
     "metadata": {},
     "output_type": "display_data"
    },
    {
     "data": {
      "application/vnd.jupyter.widget-view+json": {
       "model_id": "5f1ea9edab274cfa910de04b0a342e2f",
       "version_major": 2,
       "version_minor": 0
      },
      "text/plain": [
       "conditioning_image_2.png:   0%|          | 0.00/7.22k [00:00<?, ?B/s]"
      ]
     },
     "metadata": {},
     "output_type": "display_data"
    },
    {
     "data": {
      "application/vnd.jupyter.widget-view+json": {
       "model_id": "444f15236dd1488b85e8b5a8bdf0b712",
       "version_major": 2,
       "version_minor": 0
      },
      "text/plain": [
       "(…)th_brown_floral_background_300_steps.png:   0%|          | 0.00/403k [00:00<?, ?B/s]"
      ]
     },
     "metadata": {},
     "output_type": "display_data"
    },
    {
     "data": {
      "application/vnd.jupyter.widget-view+json": {
       "model_id": "7badd0f9fc274114ab0f33baf8c40068",
       "version_major": 2,
       "version_minor": 0
      },
      "text/plain": [
       "(…)h_brown_floral_background_6000_steps.png:   0%|          | 0.00/538k [00:00<?, ?B/s]"
      ]
     },
     "metadata": {},
     "output_type": "display_data"
    },
    {
     "data": {
      "application/vnd.jupyter.widget-view+json": {
       "model_id": "0bf6eff8b86b4ddd87c3de2080a2e152",
       "version_major": 2,
       "version_minor": 0
      },
      "text/plain": [
       "(…)ircle_with_blue_background_300_steps.png:   0%|          | 0.00/428k [00:00<?, ?B/s]"
      ]
     },
     "metadata": {},
     "output_type": "display_data"
    },
    {
     "data": {
      "application/vnd.jupyter.widget-view+json": {
       "model_id": "fc12017085904861ac91a9fbb7210fa7",
       "version_major": 2,
       "version_minor": 0
      },
      "text/plain": [
       "(…)rcle_with_blue_background_6000_steps.png:   0%|          | 0.00/196k [00:00<?, ?B/s]"
      ]
     },
     "metadata": {},
     "output_type": "display_data"
    },
    {
     "data": {
      "application/vnd.jupyter.widget-view+json": {
       "model_id": "aba54f92104c4f989e60de33ebb2577e",
       "version_major": 2,
       "version_minor": 0
      },
      "text/plain": [
       "image_torch.png:   0%|          | 0.00/204k [00:00<?, ?B/s]"
      ]
     },
     "metadata": {},
     "output_type": "display_data"
    },
    {
     "data": {
      "application/vnd.jupyter.widget-view+json": {
       "model_id": "dbc0283204974918b79a3e56fe524e80",
       "version_major": 2,
       "version_minor": 0
      },
      "text/plain": [
       "Downloading data:   0%|          | 0/17 [00:00<?, ?files/s]"
      ]
     },
     "metadata": {},
     "output_type": "display_data"
    },
    {
     "data": {
      "application/vnd.jupyter.widget-view+json": {
       "model_id": "e2a21930396945cab2090050d6e8a2d8",
       "version_major": 2,
       "version_minor": 0
      },
      "text/plain": [
       "dev-mode-connect.png:   0%|          | 0.00/186k [00:00<?, ?B/s]"
      ]
     },
     "metadata": {},
     "output_type": "display_data"
    },
    {
     "data": {
      "application/vnd.jupyter.widget-view+json": {
       "model_id": "709fb818342d4b9bbba1f2de9d2d449d",
       "version_major": 2,
       "version_minor": 0
      },
      "text/plain": [
       "dev-mode-refresh.png:   0%|          | 0.00/223k [00:00<?, ?B/s]"
      ]
     },
     "metadata": {},
     "output_type": "display_data"
    },
    {
     "data": {
      "application/vnd.jupyter.widget-view+json": {
       "model_id": "f89ae024473e4778bfafc2418d9389d1",
       "version_major": 2,
       "version_minor": 0
      },
      "text/plain": [
       "dev-mode-settings-1.png:   0%|          | 0.00/94.0k [00:00<?, ?B/s]"
      ]
     },
     "metadata": {},
     "output_type": "display_data"
    },
    {
     "data": {
      "application/vnd.jupyter.widget-view+json": {
       "model_id": "2aae730f516f45abb2b91e7edb51012c",
       "version_major": 2,
       "version_minor": 0
      },
      "text/plain": [
       "dev-mode-enable-logs.png:   0%|          | 0.00/70.0k [00:00<?, ?B/s]"
      ]
     },
     "metadata": {},
     "output_type": "display_data"
    },
    {
     "data": {
      "application/vnd.jupyter.widget-view+json": {
       "model_id": "a097f1b7508140b5aff79b5a3b201555",
       "version_major": 2,
       "version_minor": 0
      },
      "text/plain": [
       "dev-mode-controls.png:   0%|          | 0.00/41.7k [00:00<?, ?B/s]"
      ]
     },
     "metadata": {},
     "output_type": "display_data"
    },
    {
     "data": {
      "application/vnd.jupyter.widget-view+json": {
       "model_id": "08b8d5809e14459d9126dbe5b230f2eb",
       "version_major": 2,
       "version_minor": 0
      },
      "text/plain": [
       "dev-mode-enable-contextual.png:   0%|          | 0.00/22.0k [00:00<?, ?B/s]"
      ]
     },
     "metadata": {},
     "output_type": "display_data"
    },
    {
     "data": {
      "application/vnd.jupyter.widget-view+json": {
       "model_id": "efcf4f78713a446fbcdf65c39486df72",
       "version_major": 2,
       "version_minor": 0
      },
      "text/plain": [
       "dev-mode-enable-settings-dark.png:   0%|          | 0.00/37.3k [00:00<?, ?B/s]"
      ]
     },
     "metadata": {},
     "output_type": "display_data"
    },
    {
     "data": {
      "application/vnd.jupyter.widget-view+json": {
       "model_id": "627ae0546122460382d50a3988fa6bfd",
       "version_major": 2,
       "version_minor": 0
      },
      "text/plain": [
       "dev-mode-controls-dark.png:   0%|          | 0.00/43.8k [00:00<?, ?B/s]"
      ]
     },
     "metadata": {},
     "output_type": "display_data"
    },
    {
     "data": {
      "application/vnd.jupyter.widget-view+json": {
       "model_id": "c95eb5bbacf04f0f9d91a16e4801993d",
       "version_major": 2,
       "version_minor": 0
      },
      "text/plain": [
       "dev-mode-enable-logs-dark.png:   0%|          | 0.00/80.9k [00:00<?, ?B/s]"
      ]
     },
     "metadata": {},
     "output_type": "display_data"
    },
    {
     "data": {
      "application/vnd.jupyter.widget-view+json": {
       "model_id": "9cc76d20095b4e49ad0e4bd7248a3fc0",
       "version_major": 2,
       "version_minor": 0
      },
      "text/plain": [
       "dev-mode-update.png:   0%|          | 0.00/178k [00:00<?, ?B/s]"
      ]
     },
     "metadata": {},
     "output_type": "display_data"
    },
    {
     "data": {
      "application/vnd.jupyter.widget-view+json": {
       "model_id": "59b2fe8b91d148a49e25de984add5bc6",
       "version_major": 2,
       "version_minor": 0
      },
      "text/plain": [
       "dev-mode-enable-contextual-dark.png:   0%|          | 0.00/21.8k [00:00<?, ?B/s]"
      ]
     },
     "metadata": {},
     "output_type": "display_data"
    },
    {
     "data": {
      "application/vnd.jupyter.widget-view+json": {
       "model_id": "f6c04db6ac354428bf2f1e8be33932b3",
       "version_major": 2,
       "version_minor": 0
      },
      "text/plain": [
       "dev-mode-settings-2.png:   0%|          | 0.00/109k [00:00<?, ?B/s]"
      ]
     },
     "metadata": {},
     "output_type": "display_data"
    },
    {
     "data": {
      "application/vnd.jupyter.widget-view+json": {
       "model_id": "50887bd5d2d74c8b800725b73b2b0035",
       "version_major": 2,
       "version_minor": 0
      },
      "text/plain": [
       "dev-mode-creation-enable-dark.png:   0%|          | 0.00/119k [00:00<?, ?B/s]"
      ]
     },
     "metadata": {},
     "output_type": "display_data"
    },
    {
     "data": {
      "application/vnd.jupyter.widget-view+json": {
       "model_id": "7a885f396f1845f799fd3267e6cdb71a",
       "version_major": 2,
       "version_minor": 0
      },
      "text/plain": [
       "dev-mode-controls-uncommitted-dark.png:   0%|          | 0.00/59.7k [00:00<?, ?B/s]"
      ]
     },
     "metadata": {},
     "output_type": "display_data"
    },
    {
     "data": {
      "application/vnd.jupyter.widget-view+json": {
       "model_id": "61917a43d30b4cd1b1ced50ac77df78d",
       "version_major": 2,
       "version_minor": 0
      },
      "text/plain": [
       "dev-mode-controls-uncommitted.png:   0%|          | 0.00/53.4k [00:00<?, ?B/s]"
      ]
     },
     "metadata": {},
     "output_type": "display_data"
    },
    {
     "data": {
      "application/vnd.jupyter.widget-view+json": {
       "model_id": "4f8b5442f3ea4383ac5a0d28dd7a322b",
       "version_major": 2,
       "version_minor": 0
      },
      "text/plain": [
       "dev-mode-creation-enable.png:   0%|          | 0.00/109k [00:00<?, ?B/s]"
      ]
     },
     "metadata": {},
     "output_type": "display_data"
    },
    {
     "data": {
      "application/vnd.jupyter.widget-view+json": {
       "model_id": "e8cbf736668b4ec8a0ebac6366a10f4a",
       "version_major": 2,
       "version_minor": 0
      },
      "text/plain": [
       "dev-mode-enable-settings.png:   0%|          | 0.00/35.0k [00:00<?, ?B/s]"
      ]
     },
     "metadata": {},
     "output_type": "display_data"
    },
    {
     "data": {
      "application/vnd.jupyter.widget-view+json": {
       "model_id": "7d5f96f77b2e4163b40eead0d6e7c7f1",
       "version_major": 2,
       "version_minor": 0
      },
      "text/plain": [
       "dottxt-structured_output-ex-0.png:   0%|          | 0.00/66.4k [00:00<?, ?B/s]"
      ]
     },
     "metadata": {},
     "output_type": "display_data"
    },
    {
     "data": {
      "application/vnd.jupyter.widget-view+json": {
       "model_id": "3af7045ee70c4a798cc97f81dac176db",
       "version_major": 2,
       "version_minor": 0
      },
      "text/plain": [
       "dottxt-structured_output-ex-1.png:   0%|          | 0.00/43.7k [00:00<?, ?B/s]"
      ]
     },
     "metadata": {},
     "output_type": "display_data"
    },
    {
     "data": {
      "application/vnd.jupyter.widget-view+json": {
       "model_id": "a0643411f98044008e8101ee4d5b8bc6",
       "version_major": 2,
       "version_minor": 0
      },
      "text/plain": [
       "dottxt-structured_output-ex-10.png:   0%|          | 0.00/35.8k [00:00<?, ?B/s]"
      ]
     },
     "metadata": {},
     "output_type": "display_data"
    },
    {
     "data": {
      "application/vnd.jupyter.widget-view+json": {
       "model_id": "7353826f42a244d787acc987a7f0d31e",
       "version_major": 2,
       "version_minor": 0
      },
      "text/plain": [
       "dottxt-structured_output-ex-2.png:   0%|          | 0.00/64.1k [00:00<?, ?B/s]"
      ]
     },
     "metadata": {},
     "output_type": "display_data"
    },
    {
     "data": {
      "application/vnd.jupyter.widget-view+json": {
       "model_id": "7548fb7b1603429fb2a06fb467b0f2d3",
       "version_major": 2,
       "version_minor": 0
      },
      "text/plain": [
       "dottxt-structured_output-ex-3.png:   0%|          | 0.00/63.2k [00:00<?, ?B/s]"
      ]
     },
     "metadata": {},
     "output_type": "display_data"
    },
    {
     "data": {
      "application/vnd.jupyter.widget-view+json": {
       "model_id": "9fffb0200e5d4be9b0fd827dd9c45172",
       "version_major": 2,
       "version_minor": 0
      },
      "text/plain": [
       "dottxt-structured_output-ex-4.png:   0%|          | 0.00/188k [00:00<?, ?B/s]"
      ]
     },
     "metadata": {},
     "output_type": "display_data"
    },
    {
     "data": {
      "application/vnd.jupyter.widget-view+json": {
       "model_id": "f72366b9f1d5462c888539a026dc6fe7",
       "version_major": 2,
       "version_minor": 0
      },
      "text/plain": [
       "dottxt-structured_output-ex-5.png:   0%|          | 0.00/41.3k [00:00<?, ?B/s]"
      ]
     },
     "metadata": {},
     "output_type": "display_data"
    },
    {
     "data": {
      "application/vnd.jupyter.widget-view+json": {
       "model_id": "d92a076e7fdc4d4280f59c0d54555b95",
       "version_major": 2,
       "version_minor": 0
      },
      "text/plain": [
       "dottxt-structured_output-ex-6.png:   0%|          | 0.00/131k [00:00<?, ?B/s]"
      ]
     },
     "metadata": {},
     "output_type": "display_data"
    },
    {
     "data": {
      "application/vnd.jupyter.widget-view+json": {
       "model_id": "371ed54c8268447dac3626eb2e6924aa",
       "version_major": 2,
       "version_minor": 0
      },
      "text/plain": [
       "dottxt-structured_output-ex-7.png:   0%|          | 0.00/225k [00:00<?, ?B/s]"
      ]
     },
     "metadata": {},
     "output_type": "display_data"
    },
    {
     "data": {
      "application/vnd.jupyter.widget-view+json": {
       "model_id": "758a0c59896844f1add1d9dde70d83b0",
       "version_major": 2,
       "version_minor": 0
      },
      "text/plain": [
       "dottxt-structured_output-ex-9.png:   0%|          | 0.00/110k [00:00<?, ?B/s]"
      ]
     },
     "metadata": {},
     "output_type": "display_data"
    },
    {
     "data": {
      "application/vnd.jupyter.widget-view+json": {
       "model_id": "3ad9ff72327841aba88f872fa3f1b473",
       "version_major": 2,
       "version_minor": 0
      },
      "text/plain": [
       "Generating train split:   0%|          | 0/23 [00:00<?, ? examples/s]"
      ]
     },
     "metadata": {},
     "output_type": "display_data"
    },
    {
     "data": {
      "application/vnd.jupyter.widget-view+json": {
       "model_id": "9a2c938c6deb40c9b7a8177f0db1a9f7",
       "version_major": 2,
       "version_minor": 0
      },
      "text/plain": [
       "Generating validation split:   0%|          | 0/17 [00:00<?, ? examples/s]"
      ]
     },
     "metadata": {},
     "output_type": "display_data"
    },
    {
     "data": {
      "application/vnd.jupyter.widget-view+json": {
       "model_id": "8a9a20568a7a4f7a8afb8a47e715dbee",
       "version_major": 2,
       "version_minor": 0
      },
      "text/plain": [
       "Generating test split:   0%|          | 0/10 [00:00<?, ? examples/s]"
      ]
     },
     "metadata": {},
     "output_type": "display_data"
    }
   ],
   "source": [
    "from datasets import load_dataset\n",
    "\n",
    "data = load_dataset(\"huggingface/documentation-images\")"
   ]
  },
  {
   "cell_type": "code",
   "execution_count": 14,
   "metadata": {},
   "outputs": [
    {
     "name": "stdout",
     "output_type": "stream",
     "text": [
      "DatasetDict({\n",
      "    train: Dataset({\n",
      "        features: ['image'],\n",
      "        num_rows: 15\n",
      "    })\n",
      "})\n",
      "Dataset({\n",
      "    features: ['image'],\n",
      "    num_rows: 15\n",
      "})\n",
      "{'image': <PIL.GifImagePlugin.GifImageFile image mode=P size=1142x720 at 0x7F2C597917E0>}\n",
      "<PIL.GifImagePlugin.GifImageFile image mode=P size=1142x720 at 0x7F2C597917E0>\n",
      "{'image': <PIL.PngImagePlugin.PngImageFile image mode=RGBA size=1308x850 at 0x7F2C59746AA0>}\n",
      "<PIL.PngImagePlugin.PngImageFile image mode=RGBA size=1308x850 at 0x7F2C59746AA0>\n",
      "{'image': <PIL.PngImagePlugin.PngImageFile image mode=P size=1168x703 at 0x7F2C59744D90>}\n",
      "<PIL.PngImagePlugin.PngImageFile image mode=P size=1168x703 at 0x7F2C59744D90>\n",
      "{'image': <PIL.PngImagePlugin.PngImageFile image mode=P size=1164x703 at 0x7F2C597456F0>}\n",
      "<PIL.PngImagePlugin.PngImageFile image mode=P size=1164x703 at 0x7F2C597456F0>\n",
      "{'image': <PIL.PngImagePlugin.PngImageFile image mode=RGBA size=1998x594 at 0x7F2C59746AA0>}\n",
      "<PIL.PngImagePlugin.PngImageFile image mode=RGBA size=1998x594 at 0x7F2C59746AA0>\n",
      "{'image': <PIL.PngImagePlugin.PngImageFile image mode=P size=1164x699 at 0x7F2C59744D90>}\n",
      "<PIL.PngImagePlugin.PngImageFile image mode=P size=1164x699 at 0x7F2C59744D90>\n",
      "{'image': <PIL.PngImagePlugin.PngImageFile image mode=P size=1165x698 at 0x7F2C597451E0>}\n",
      "<PIL.PngImagePlugin.PngImageFile image mode=P size=1165x698 at 0x7F2C597451E0>\n",
      "{'image': <PIL.PngImagePlugin.PngImageFile image mode=P size=1165x488 at 0x7F2C59746AA0>}\n",
      "<PIL.PngImagePlugin.PngImageFile image mode=P size=1165x488 at 0x7F2C59746AA0>\n",
      "{'image': <PIL.PngImagePlugin.PngImageFile image mode=P size=1167x489 at 0x7F2C59744D90>}\n",
      "<PIL.PngImagePlugin.PngImageFile image mode=P size=1167x489 at 0x7F2C59744D90>\n",
      "{'image': <PIL.PngImagePlugin.PngImageFile image mode=RGBA size=1476x816 at 0x7F2C597451E0>}\n",
      "<PIL.PngImagePlugin.PngImageFile image mode=RGBA size=1476x816 at 0x7F2C597451E0>\n",
      "{'image': <PIL.PngImagePlugin.PngImageFile image mode=P size=1183x717 at 0x7F2C59744340>}\n",
      "<PIL.PngImagePlugin.PngImageFile image mode=P size=1183x717 at 0x7F2C59744340>\n",
      "{'image': <PIL.PngImagePlugin.PngImageFile image mode=P size=1166x702 at 0x7F2C59745360>}\n",
      "<PIL.PngImagePlugin.PngImageFile image mode=P size=1166x702 at 0x7F2C59745360>\n",
      "{'image': <PIL.PngImagePlugin.PngImageFile image mode=P size=2336x1406 at 0x7F2C597451E0>}\n",
      "<PIL.PngImagePlugin.PngImageFile image mode=P size=2336x1406 at 0x7F2C597451E0>\n",
      "{'image': <PIL.PngImagePlugin.PngImageFile image mode=P size=2376x1410 at 0x7F2C59744340>}\n",
      "<PIL.PngImagePlugin.PngImageFile image mode=P size=2376x1410 at 0x7F2C59744340>\n",
      "{'image': <PIL.PngImagePlugin.PngImageFile image mode=RGBA size=1600x1153 at 0x7F2C59745360>}\n",
      "<PIL.PngImagePlugin.PngImageFile image mode=RGBA size=1600x1153 at 0x7F2C59745360>\n"
     ]
    }
   ],
   "source": [
    "print(data)\n",
    "print(data[\"train\"])\n",
    "\n",
    "for d in data[\"train\"]:\n",
    "    print(d)\n",
    "    print(d[\"image\"])"
   ]
  },
  {
   "cell_type": "code",
   "execution_count": 3,
   "metadata": {},
   "outputs": [
    {
     "data": {
      "application/vnd.jupyter.widget-view+json": {
       "model_id": "0a2a81ad68304b3d84b5f379493a5a19",
       "version_major": 2,
       "version_minor": 0
      },
      "text/plain": [
       "SQLConsole.gif:   0%|          | 0.00/4.31M [00:00<?, ?B/s]"
      ]
     },
     "metadata": {},
     "output_type": "display_data"
    },
    {
     "data": {
      "application/vnd.jupyter.widget-view+json": {
       "model_id": "c11fad46f972449fbcbeeac5c92f483a",
       "version_major": 2,
       "version_minor": 0
      },
      "text/plain": [
       "alpaca-to-conversation.png:   0%|          | 0.00/245k [00:00<?, ?B/s]"
      ]
     },
     "metadata": {},
     "output_type": "display_data"
    },
    {
     "data": {
      "application/vnd.jupyter.widget-view+json": {
       "model_id": "71c41d9f49f040eaaa41fc131bf8e0d5",
       "version_major": 2,
       "version_minor": 0
      },
      "text/plain": [
       "bar-struct-length-dark.png:   0%|          | 0.00/45.8k [00:00<?, ?B/s]"
      ]
     },
     "metadata": {},
     "output_type": "display_data"
    },
    {
     "data": {
      "application/vnd.jupyter.widget-view+json": {
       "model_id": "356f6dbd973c4517b20168f4e8a3692f",
       "version_major": 2,
       "version_minor": 0
      },
      "text/plain": [
       "bar-struct-length.png:   0%|          | 0.00/46.4k [00:00<?, ?B/s]"
      ]
     },
     "metadata": {},
     "output_type": "display_data"
    },
    {
     "data": {
      "application/vnd.jupyter.widget-view+json": {
       "model_id": "593a2699531e412ca69cb1245eb9813b",
       "version_major": 2,
       "version_minor": 0
      },
      "text/plain": [
       "dataset_monthly_creations.png:   0%|          | 0.00/120k [00:00<?, ?B/s]"
      ]
     },
     "metadata": {},
     "output_type": "display_data"
    },
    {
     "data": {
      "application/vnd.jupyter.widget-view+json": {
       "model_id": "a8fa4fa4f117496bae3227071202e466",
       "version_major": 2,
       "version_minor": 0
      },
      "text/plain": [
       "histogram-simple-dark.png:   0%|          | 0.00/22.9k [00:00<?, ?B/s]"
      ]
     },
     "metadata": {},
     "output_type": "display_data"
    },
    {
     "data": {
      "application/vnd.jupyter.widget-view+json": {
       "model_id": "e12968aef24e4898a2e1e338b17849f1",
       "version_major": 2,
       "version_minor": 0
      },
      "text/plain": [
       "histogram-simple.png:   0%|          | 0.00/23.1k [00:00<?, ?B/s]"
      ]
     },
     "metadata": {},
     "output_type": "display_data"
    },
    {
     "data": {
      "application/vnd.jupyter.widget-view+json": {
       "model_id": "89e8d287fc1e4c82850aef29d4028ace",
       "version_major": 2,
       "version_minor": 0
      },
      "text/plain": [
       "leakage-detection-dark.png:   0%|          | 0.00/23.8k [00:00<?, ?B/s]"
      ]
     },
     "metadata": {},
     "output_type": "display_data"
    },
    {
     "data": {
      "application/vnd.jupyter.widget-view+json": {
       "model_id": "7a017ab1cfe149608026bdd474dc5ab8",
       "version_major": 2,
       "version_minor": 0
      },
      "text/plain": [
       "leakage-detection.png:   0%|          | 0.00/24.6k [00:00<?, ?B/s]"
      ]
     },
     "metadata": {},
     "output_type": "display_data"
    },
    {
     "data": {
      "application/vnd.jupyter.widget-view+json": {
       "model_id": "251cffab202d40028d2440364f384ead",
       "version_major": 2,
       "version_minor": 0
      },
      "text/plain": [
       "reddit-movie-suggestions.png:   0%|          | 0.00/244k [00:00<?, ?B/s]"
      ]
     },
     "metadata": {},
     "output_type": "display_data"
    },
    {
     "data": {
      "application/vnd.jupyter.widget-view+json": {
       "model_id": "eb0aa073d2d04f0ca2544fb6c92d4bca",
       "version_major": 2,
       "version_minor": 0
      },
      "text/plain": [
       "regex-matching-markdown-code-dark.png:   0%|          | 0.00/51.5k [00:00<?, ?B/s]"
      ]
     },
     "metadata": {},
     "output_type": "display_data"
    },
    {
     "data": {
      "application/vnd.jupyter.widget-view+json": {
       "model_id": "21c361a924c448a6949bcae176d97113",
       "version_major": 2,
       "version_minor": 0
      },
      "text/plain": [
       "regex-matching-markdown-code.png:   0%|          | 0.00/48.9k [00:00<?, ?B/s]"
      ]
     },
     "metadata": {},
     "output_type": "display_data"
    },
    {
     "data": {
      "application/vnd.jupyter.widget-view+json": {
       "model_id": "f8b99106b2bf477d99406b6aacdf9644",
       "version_major": 2,
       "version_minor": 0
      },
      "text/plain": [
       "sql-console-histogram-dark.png:   0%|          | 0.00/61.7k [00:00<?, ?B/s]"
      ]
     },
     "metadata": {},
     "output_type": "display_data"
    },
    {
     "data": {
      "application/vnd.jupyter.widget-view+json": {
       "model_id": "43ed5a214d984e93ba3a23f72d900d51",
       "version_major": 2,
       "version_minor": 0
      },
      "text/plain": [
       "sql-console-histogram.png:   0%|          | 0.00/68.5k [00:00<?, ?B/s]"
      ]
     },
     "metadata": {},
     "output_type": "display_data"
    },
    {
     "data": {
      "application/vnd.jupyter.widget-view+json": {
       "model_id": "59d64fd88a784bb6b54a0175a95cfa2f",
       "version_major": 2,
       "version_minor": 0
      },
      "text/plain": [
       "sql-console.png:   0%|          | 0.00/59.2k [00:00<?, ?B/s]"
      ]
     },
     "metadata": {},
     "output_type": "display_data"
    },
    {
     "data": {
      "application/vnd.jupyter.widget-view+json": {
       "model_id": "a9005a5c03534e4d999948b6d787b2e5",
       "version_major": 2,
       "version_minor": 0
      },
      "text/plain": [
       "Generating train split: 0 examples [00:00, ? examples/s]"
      ]
     },
     "metadata": {},
     "output_type": "display_data"
    }
   ],
   "source": [
    "data = load_dataset(\"huggingface/documentation-images\", data_dir=\"sql_console\")"
   ]
  },
  {
   "cell_type": "code",
   "execution_count": 4,
   "metadata": {},
   "outputs": [
    {
     "name": "stdout",
     "output_type": "stream",
     "text": [
      "DatasetDict({\n",
      "    train: Dataset({\n",
      "        features: ['image'],\n",
      "        num_rows: 15\n",
      "    })\n",
      "})\n"
     ]
    }
   ],
   "source": [
    "print(data)"
   ]
  }
 ],
 "metadata": {
  "kernelspec": {
   "display_name": "venv",
   "language": "python",
   "name": "python3"
  },
  "language_info": {
   "codemirror_mode": {
    "name": "ipython",
    "version": 3
   },
   "file_extension": ".py",
   "mimetype": "text/x-python",
   "name": "python",
   "nbconvert_exporter": "python",
   "pygments_lexer": "ipython3",
   "version": "3.10.12"
  }
 },
 "nbformat": 4,
 "nbformat_minor": 2
}
