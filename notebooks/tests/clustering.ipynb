{
 "cells": [
  {
   "cell_type": "code",
   "execution_count": 1,
   "metadata": {},
   "outputs": [
    {
     "name": "stderr",
     "output_type": "stream",
     "text": [
      "2025-05-10 20:58:36.488741: E external/local_xla/xla/stream_executor/cuda/cuda_fft.cc:477] Unable to register cuFFT factory: Attempting to register factory for plugin cuFFT when one has already been registered\n",
      "WARNING: All log messages before absl::InitializeLog() is called are written to STDERR\n",
      "E0000 00:00:1746899916.504142   22917 cuda_dnn.cc:8310] Unable to register cuDNN factory: Attempting to register factory for plugin cuDNN when one has already been registered\n",
      "E0000 00:00:1746899916.508801   22917 cuda_blas.cc:1418] Unable to register cuBLAS factory: Attempting to register factory for plugin cuBLAS when one has already been registered\n"
     ]
    }
   ],
   "source": [
    "import importlib\n",
    "%load_ext autoreload\n",
    "\n",
    "import sys\n",
    "import os\n",
    "sys.path.append(os.path.abspath(\"../..\"))\n",
    "\n",
    "import mypackage\n",
    "import mypackage.elastic\n",
    "import mypackage.sentence\n",
    "import mypackage.clustering\n",
    "\n",
    "from sentence_transformers import SentenceTransformer"
   ]
  },
  {
   "cell_type": "code",
   "execution_count": 2,
   "metadata": {},
   "outputs": [],
   "source": [
    "model = SentenceTransformer('sentence-transformers/all-MiniLM-L6-v2')\n",
    "#doc = mypackage.elastic.Document.from_json(\"../cached_docs/pubmed_0001.json\", text_path=\"article\")\n",
    "doc = mypackage.elastic.ElasticDocument(\n",
    "    mypackage.elastic.Session(\"pubmed-index\", cache_dir=\"../../usercode/cache\", use=\"cache\"),\n",
    "    2581,\n",
    "    text_path=\"article\"\n",
    ")"
   ]
  },
  {
   "cell_type": "code",
   "execution_count": 5,
   "metadata": {},
   "outputs": [
    {
     "name": "stdout",
     "output_type": "stream",
     "text": [
      "[\"a review of the studies published in the last three decades between 1980 and 2013 reporting on prevalence of childhood overweight and obesity ( age 1 - 18 yr ) in india was conducted using a systematic approach .\"]\n"
     ]
    }
   ],
   "source": [
    "sentences = mypackage.sentence.doc_to_sentences(doc, model)\n",
    "pair = mypackage.sentence.SimilarityPair.from_sentences(sentences[0], sentences[1])\n",
    "merged = mypackage.sentence.iterative_merge(sentences, threshold=0.6, round_limit=None, pooling_method=\"average\")\n",
    "print(merged[0])"
   ]
  },
  {
   "cell_type": "code",
   "execution_count": null,
   "metadata": {},
   "outputs": [],
   "source": [
    "%autoreload 2\n",
    "\n",
    "print(len(merged))\n",
    "\n",
    "labels, clusters = mypackage.clustering.chain_clustering(merged, n_components=25)\n",
    "print(len(clusters))"
   ]
  },
  {
   "cell_type": "code",
   "execution_count": null,
   "metadata": {},
   "outputs": [],
   "source": [
    "mypackage.clustering.visualize_clustering(merged, labels)"
   ]
  },
  {
   "cell_type": "code",
   "execution_count": null,
   "metadata": {},
   "outputs": [],
   "source": [
    "from rich.panel import Panel\n",
    "from rich.console import Console\n",
    "\n",
    "console = Console()\n",
    "\n",
    "for cluster in clusters.items():\n",
    "    text = \"\\n\\n\".join([chain.text for chain in cluster[1]])\n",
    "    console.print(Panel(text, title = f\"Cluster {cluster[0]:02}\",border_style=\"cyan bold\"))"
   ]
  },
  {
   "cell_type": "code",
   "execution_count": null,
   "metadata": {},
   "outputs": [],
   "source": [
    "print(clusters[1].kth_most_similar_chain().text)"
   ]
  },
  {
   "cell_type": "code",
   "execution_count": null,
   "metadata": {},
   "outputs": [],
   "source": [
    "mask = mypackage.clustering.cluster_mask(clusters)"
   ]
  },
  {
   "cell_type": "code",
   "execution_count": null,
   "metadata": {},
   "outputs": [],
   "source": [
    "print(mask)"
   ]
  },
  {
   "cell_type": "code",
   "execution_count": null,
   "metadata": {},
   "outputs": [],
   "source": [
    "from matplotlib import pyplot as plt\n",
    "\n",
    "plt.step(list(range(len(mask))), mask)\n",
    "plt.show()"
   ]
  },
  {
   "cell_type": "markdown",
   "metadata": {},
   "source": [
    "We need to evaluate the clustering"
   ]
  },
  {
   "cell_type": "code",
   "execution_count": null,
   "metadata": {},
   "outputs": [],
   "source": [
    "import mypackage.clustering.metrics\n",
    "importlib.reload(mypackage.clustering.metrics)\n",
    "mypackage.clustering.metrics.chain_clustering_silhouette_score(merged, labels)"
   ]
  }
 ],
 "metadata": {
  "kernelspec": {
   "display_name": "venv",
   "language": "python",
   "name": "python3"
  },
  "language_info": {
   "codemirror_mode": {
    "name": "ipython",
    "version": 3
   },
   "file_extension": ".py",
   "mimetype": "text/x-python",
   "name": "python",
   "nbconvert_exporter": "python",
   "pygments_lexer": "ipython3",
   "version": "3.10.12"
  }
 },
 "nbformat": 4,
 "nbformat_minor": 2
}
