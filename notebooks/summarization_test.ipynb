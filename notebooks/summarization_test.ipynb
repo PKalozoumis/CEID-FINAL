{
 "cells": [
  {
   "cell_type": "code",
   "execution_count": 28,
   "metadata": {},
   "outputs": [],
   "source": [
    "from transformers import BigBirdPegasusForConditionalGeneration, AutoTokenizer, TextIteratorStreamer, TextStreamer"
   ]
  },
  {
   "cell_type": "code",
   "execution_count": null,
   "metadata": {},
   "outputs": [],
   "source": [
    "model_path = \"google/bigbird-pegasus-large-arxiv\"\n",
    "\n",
    "tokenizer = AutoTokenizer.from_pretrained(model_path)\n",
    "model = BigBirdPegasusForConditionalGeneration.from_pretrained(model_path)"
   ]
  },
  {
   "cell_type": "code",
   "execution_count": 30,
   "metadata": {},
   "outputs": [],
   "source": [
    "import sys\n",
    "import os\n",
    "sys.path.append(os.path.abspath(\"..\"))\n",
    "from elastic import elastic_session, Document"
   ]
  },
  {
   "cell_type": "code",
   "execution_count": 15,
   "metadata": {},
   "outputs": [],
   "source": [
    "session = elastic_session(\"arxiv-index\", \"../credentials.json\", \"../http_ca.crt\")\n",
    "doc = Document(session, 0, filter_path=\"_source.article\").get()"
   ]
  },
  {
   "cell_type": "code",
   "execution_count": 47,
   "metadata": {},
   "outputs": [
    {
     "data": {
      "application/vnd.jupyter.widget-view+json": {
       "model_id": "f519be69fb9a494c9a01ac4a150a19b1",
       "version_major": 2,
       "version_minor": 0
      },
      "text/plain": [
       "Output()"
      ]
     },
     "metadata": {},
     "output_type": "display_data"
    },
    {
     "name": "stderr",
     "output_type": "stream",
     "text": [
      "/home/zoukos/ceid/final/venv/lib/python3.10/site-packages/transformers/generation/configuration_utils.py:696: UserWarning: `num_beams` is set to 1. However, `length_penalty` is set to `0.8` -- this flag is only used in beam-based generation modes. You should set `num_beams>1` or unset `length_penalty`.\n",
      "  warnings.warn(\n"
     ]
    },
    {
     "data": {
      "text/html": [
       "<pre style=\"white-space:pre;overflow-x:auto;line-height:normal;font-family:Menlo,'DejaVu Sans Mono',consolas,'Courier New',monospace\"></pre>\n"
      ],
      "text/plain": []
     },
     "metadata": {},
     "output_type": "display_data"
    }
   ],
   "source": [
    "from threading import Thread\n",
    "from rich.live import Live\n",
    "from rich.console import Console\n",
    "from rich.panel import Panel\n",
    "\n",
    "inputs = tokenizer(doc, return_tensors='pt', truncation=True, max_length=4096)\n",
    "streamer = TextIteratorStreamer(tokenizer = tokenizer, decode_kwargs={'skip_special_tokens': True})\n",
    "#prediction = tokenizer.batch_decode(prediction)\n",
    "\n",
    "#Create new thread that will generate the arguments\n",
    "t = Thread(target=model.generate, kwargs={**inputs, 'streamer': streamer, 'num_beams': 1})\n",
    "t.start()\n",
    "\n",
    "#Render to the console\n",
    "#===================================================================================================\n",
    "\n",
    "console = Console()\n",
    "\n",
    "partial_text = \"\"\n",
    "panel = Panel(partial_text, title=\"Summary\", border_style=\"cyan\")\n",
    "\n",
    "with Live(panel, console=Console()) as live:\n",
    "    for new_text in streamer:\n",
    "\n",
    "        if new_text == \".<n>\":\n",
    "            new_text = \"\\n\"\n",
    "\n",
    "        partial_text += new_text\n",
    "        panel.renderable = partial_text\n",
    "        live.update(panel)"
   ]
  }
 ],
 "metadata": {
  "kernelspec": {
   "display_name": "venv",
   "language": "python",
   "name": "python3"
  },
  "language_info": {
   "codemirror_mode": {
    "name": "ipython",
    "version": 3
   },
   "file_extension": ".py",
   "mimetype": "text/x-python",
   "name": "python",
   "nbconvert_exporter": "python",
   "pygments_lexer": "ipython3",
   "version": "3.10.12"
  }
 },
 "nbformat": 4,
 "nbformat_minor": 2
}
