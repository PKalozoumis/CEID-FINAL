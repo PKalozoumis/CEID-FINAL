{
 "cells": [
  {
   "cell_type": "code",
   "execution_count": null,
   "metadata": {},
   "outputs": [],
   "source": [
    "import sys\n",
    "import os\n",
    "sys.path.append(os.path.abspath(\"..\"))\n",
    "\n",
    "from sklearn.cluster._hdbscan.hdbscan import HDBSCAN\n",
    "from mypackage.sentence import SentenceChain, doc_to_sentences, iterative_merge\n",
    "from mypackage.clustering import chain_clustering\n",
    "from mypackage.elastic import Session, elasticsearch_client, ScrollingCorpus, ElasticDocument\n",
    "import numpy as np\n",
    "from sentence_transformers import SentenceTransformer"
   ]
  },
  {
   "cell_type": "code",
   "execution_count": null,
   "metadata": {},
   "outputs": [],
   "source": [
    "session = Session(elasticsearch_client(\"../credentials.json\", \"../http_ca.crt\"), \"arxiv-index\")\n",
    "model = SentenceTransformer('sentence-transformers/all-MiniLM-L6-v2')\n",
    "doc = ElasticDocument(session, 0, text_path=\"article\")"
   ]
  },
  {
   "cell_type": "code",
   "execution_count": null,
   "metadata": {},
   "outputs": [],
   "source": [
    "sentences = doc_to_sentences(doc, model)\n",
    "merged = iterative_merge(sentences, threshold=0.6, round_limit=None, pooling_method=\"average\")"
   ]
  },
  {
   "cell_type": "code",
   "execution_count": null,
   "metadata": {},
   "outputs": [],
   "source": [
    "chain_clustering(merged)"
   ]
  }
 ],
 "metadata": {
  "kernelspec": {
   "display_name": "venv",
   "language": "python",
   "name": "python3"
  },
  "language_info": {
   "codemirror_mode": {
    "name": "ipython",
    "version": 3
   },
   "file_extension": ".py",
   "mimetype": "text/x-python",
   "name": "python",
   "nbconvert_exporter": "python",
   "pygments_lexer": "ipython3",
   "version": "3.12.3"
  }
 },
 "nbformat": 4,
 "nbformat_minor": 2
}
