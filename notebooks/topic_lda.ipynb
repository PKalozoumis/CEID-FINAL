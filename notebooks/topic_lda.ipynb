{
 "cells": [
  {
   "cell_type": "code",
   "execution_count": 1,
   "metadata": {},
   "outputs": [],
   "source": [
    "import sys\n",
    "import os\n",
    "sys.path.append(os.path.abspath(\"..\"))\n",
    "\n",
    "import numpy as np\n",
    "import ipywidgets as widgets\n",
    "from matplotlib import pyplot as plt\n",
    "from topic import CustomCorpus\n",
    "from elastic import elasticsearch_client\n"
   ]
  },
  {
   "cell_type": "code",
   "execution_count": 2,
   "metadata": {},
   "outputs": [],
   "source": [
    "\n",
    "client = elasticsearch_client(\"../credentials.json\", \"../http_ca.crt\")\n",
    "index_name = \"test-index\"\n",
    "corpus = CustomCorpus(client, index_name, \"../counts.dict\", \"../phrase_model.pkl\")"
   ]
  },
  {
   "cell_type": "code",
   "execution_count": 3,
   "metadata": {},
   "outputs": [],
   "source": [
    "from gensim.models.ldamulticore import LdaMulticore\n",
    "from gensim.models.ldamodel import LdaModel\n",
    "\n",
    "#lda = LdaMulticore(corpus, id2word=corpus.dictionary, num_topics=7, workers=6)\n",
    "lda = LdaModel(corpus, id2word=corpus.dictionary, num_topics=10, alpha=\"auto\", eta=\"auto\")\n",
    "lda.save(\"lda.model\")"
   ]
  },
  {
   "cell_type": "code",
   "execution_count": 4,
   "metadata": {},
   "outputs": [
    {
     "name": "stdout",
     "output_type": "stream",
     "text": [
      "(0, '0.025*\"patients\" + 0.023*\"cf\" + 0.021*\"cystic_fibrosis\" + 0.010*\"children\" + 0.007*\"normal\" + 0.007*\"serum\" + 0.004*\"patient\" + 0.004*\"disease\" + 0.004*\"group\" + 0.004*\"control\"')\n",
      "(1, '0.026*\"patients\" + 0.024*\"cystic_fibrosis\" + 0.016*\"cf\" + 0.013*\"children\" + 0.008*\"serum\" + 0.007*\"normal\" + 0.007*\"disease\" + 0.006*\"activity\" + 0.004*\"cells\" + 0.004*\"clinical\"')\n",
      "(2, '0.017*\"cystic_fibrosis\" + 0.013*\"patients\" + 0.011*\"serum\" + 0.009*\"cf\" + 0.007*\"test\" + 0.006*\"normal\" + 0.004*\"sweat\" + 0.004*\"results\" + 0.003*\"sputum\" + 0.003*\"concentrations\"')\n",
      "(3, '0.027*\"cystic_fibrosis\" + 0.016*\"patients\" + 0.014*\"cf\" + 0.006*\"normal\" + 0.006*\"serum\" + 0.005*\"children\" + 0.004*\"levels\" + 0.004*\"pancreatic\" + 0.003*\"disease\" + 0.003*\"test\"')\n",
      "(4, '0.026*\"patients\" + 0.023*\"cf\" + 0.017*\"cystic_fibrosis\" + 0.006*\"normal\" + 0.006*\"serum\" + 0.005*\"activity\" + 0.005*\"disease\" + 0.005*\"plasma\" + 0.004*\"patient\" + 0.004*\"study\"')\n",
      "(5, '0.018*\"cystic_fibrosis\" + 0.013*\"patients\" + 0.010*\"cf\" + 0.008*\"normal\" + 0.007*\"test\" + 0.006*\"serum\" + 0.005*\"disease\" + 0.005*\"children\" + 0.004*\"increased\" + 0.004*\"cells\"')\n",
      "(6, '0.028*\"cystic_fibrosis\" + 0.013*\"cf\" + 0.013*\"patients\" + 0.009*\"disease\" + 0.008*\"normal\" + 0.007*\"activity\" + 0.007*\"serum\" + 0.004*\"control\" + 0.004*\"has_been\" + 0.003*\"factor\"')\n",
      "(7, '0.029*\"patients\" + 0.020*\"cystic_fibrosis\" + 0.012*\"cf\" + 0.008*\"disease\" + 0.006*\"normal\" + 0.006*\"children\" + 0.005*\"therapy\" + 0.005*\"serum\" + 0.004*\"group\" + 0.004*\"control\"')\n",
      "(8, '0.017*\"patients\" + 0.016*\"cystic_fibrosis\" + 0.016*\"cf\" + 0.011*\"normal\" + 0.008*\"serum\" + 0.004*\"activity\" + 0.004*\"disease\" + 0.003*\"present\" + 0.003*\"clinical\" + 0.003*\"increased\"')\n",
      "(9, '0.030*\"cystic_fibrosis\" + 0.016*\"patients\" + 0.009*\"normal\" + 0.008*\"children\" + 0.007*\"cf\" + 0.007*\"disease\" + 0.004*\"levels\" + 0.004*\"patient\" + 0.004*\"cells\" + 0.003*\"study\"')\n"
     ]
    }
   ],
   "source": [
    "for i, topic in enumerate(lda.print_topics()):\n",
    "    print(topic)"
   ]
  },
  {
   "cell_type": "code",
   "execution_count": 9,
   "metadata": {},
   "outputs": [
    {
     "name": "stdout",
     "output_type": "stream",
     "text": [
      "[[9.8237509e-01 2.4719406e-03 1.6489886e-03 ... 2.1383192e-03\n",
      "  1.8011095e-03 1.8664737e-03]\n",
      " [1.6524617e-03 1.7301264e-03 1.1541200e-03 ... 1.4970311e-03\n",
      "  9.8727208e-01 1.3063113e-03]\n",
      " [2.3254831e-01 7.5946790e-01 8.6884230e-04 ... 1.1266310e-03\n",
      "  9.4895868e-04 9.8340516e-04]\n",
      " ...\n",
      " [9.9242681e-01 1.0621437e-03 7.0857344e-04 ... 9.1877754e-04\n",
      "  7.7391928e-04 8.0200040e-04]\n",
      " [3.3041239e-03 3.4599570e-03 2.3085589e-03 ... 2.9934554e-03\n",
      "  9.7454399e-01 2.6130055e-03]\n",
      " [1.5625415e-03 1.6360581e-03 1.0917071e-03 ... 1.4155329e-03\n",
      "  1.1923863e-03 1.2356299e-03]]\n"
     ]
    }
   ],
   "source": [
    "topic_matrix = []\n",
    "\n",
    "for doc in corpus:\n",
    "    topic_vector = lda.get_document_topics(doc, minimum_probability=0)\n",
    "    topic_vector = np.array([prob for _, prob in topic_vector])\n",
    "    topic_matrix.append(topic_vector)\n",
    "\n",
    "topic_matrix = np.array(topic_matrix)\n",
    "print(topic_matrix)"
   ]
  }
 ],
 "metadata": {
  "kernelspec": {
   "display_name": "venv",
   "language": "python",
   "name": "python3"
  },
  "language_info": {
   "codemirror_mode": {
    "name": "ipython",
    "version": 3
   },
   "file_extension": ".py",
   "mimetype": "text/x-python",
   "name": "python",
   "nbconvert_exporter": "python",
   "pygments_lexer": "ipython3",
   "version": "3.10.12"
  }
 },
 "nbformat": 4,
 "nbformat_minor": 2
}
